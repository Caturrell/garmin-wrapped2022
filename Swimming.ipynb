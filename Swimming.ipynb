{
 "cells": [
  {
   "cell_type": "markdown",
   "id": "d7b6caab-eedd-4b8c-ab53-a28ee0406d89",
   "metadata": {},
   "source": [
    "# Swimming Statistics"
   ]
  },
  {
   "cell_type": "markdown",
   "id": "235bfacb-354e-4a25-af66-fff93bdd6b7b",
   "metadata": {
    "tags": []
   },
   "source": [
    "## Preliminary Work"
   ]
  },
  {
   "cell_type": "markdown",
   "id": "1772deaf-9254-4ea9-a02f-3c3fb5f8f442",
   "metadata": {
    "tags": []
   },
   "source": [
    "### Importing Data and Libraries"
   ]
  },
  {
   "cell_type": "code",
   "execution_count": 30,
   "id": "0226798e-5b00-48b7-bc08-740985b95c9f",
   "metadata": {},
   "outputs": [],
   "source": [
    "import math\n",
    "import numpy as np\n",
    "import pandas as pd\n",
    "import matplotlib.pyplot as plt\n",
    "%matplotlib inline"
   ]
  },
  {
   "cell_type": "code",
   "execution_count": 31,
   "id": "c8ff6b86-3814-49b2-885d-e1419e08ff4d",
   "metadata": {},
   "outputs": [],
   "source": [
    "# Import data\n",
    "garmin = pd.read_csv(\"activities.csv\")"
   ]
  },
  {
   "cell_type": "markdown",
   "id": "0ac24454-5884-44bd-b9bd-812a767e8a75",
   "metadata": {
    "tags": []
   },
   "source": [
    "### Data Wrangling"
   ]
  },
  {
   "cell_type": "markdown",
   "id": "c1fdd27a-f5f1-4277-beda-a4ed473dcea6",
   "metadata": {},
   "source": [
    "**Remove unnecessary columns and trim dataset down to a swimming 2022 dataset**"
   ]
  },
  {
   "cell_type": "code",
   "execution_count": 32,
   "id": "fe60fc3c-0ddc-4d2d-9c7a-6eb5300862d6",
   "metadata": {},
   "outputs": [
    {
     "data": {
      "text/html": [
       "<div>\n",
       "<style scoped>\n",
       "    .dataframe tbody tr th:only-of-type {\n",
       "        vertical-align: middle;\n",
       "    }\n",
       "\n",
       "    .dataframe tbody tr th {\n",
       "        vertical-align: top;\n",
       "    }\n",
       "\n",
       "    .dataframe thead th {\n",
       "        text-align: right;\n",
       "    }\n",
       "</style>\n",
       "<table border=\"1\" class=\"dataframe\">\n",
       "  <thead>\n",
       "    <tr style=\"text-align: right;\">\n",
       "      <th></th>\n",
       "      <th>Activity Type</th>\n",
       "      <th>Date</th>\n",
       "      <th>Distance</th>\n",
       "      <th>Calories</th>\n",
       "      <th>Avg HR</th>\n",
       "      <th>Max HR</th>\n",
       "      <th>Avg Pace</th>\n",
       "      <th>Best Pace</th>\n",
       "      <th>Total Strokes</th>\n",
       "      <th>Avg. Swolf</th>\n",
       "      <th>Avg Stroke Rate</th>\n",
       "      <th>Elapsed Time</th>\n",
       "    </tr>\n",
       "  </thead>\n",
       "  <tbody>\n",
       "    <tr>\n",
       "      <th>15</th>\n",
       "      <td>Pool Swimming</td>\n",
       "      <td>2022-11-16 08:14:07</td>\n",
       "      <td>1000.0</td>\n",
       "      <td>205.0</td>\n",
       "      <td>128.0</td>\n",
       "      <td>161.0</td>\n",
       "      <td>1900-01-01 00:02:04</td>\n",
       "      <td>1900-01-01 00:01:40</td>\n",
       "      <td>470.0</td>\n",
       "      <td>43.0</td>\n",
       "      <td>23.0</td>\n",
       "      <td>26.0</td>\n",
       "    </tr>\n",
       "  </tbody>\n",
       "</table>\n",
       "</div>"
      ],
      "text/plain": [
       "    Activity Type                Date  Distance  Calories  Avg HR  Max HR  \\\n",
       "15  Pool Swimming 2022-11-16 08:14:07    1000.0     205.0   128.0   161.0   \n",
       "\n",
       "              Avg Pace           Best Pace  Total Strokes  Avg. Swolf  \\\n",
       "15 1900-01-01 00:02:04 1900-01-01 00:01:40          470.0        43.0   \n",
       "\n",
       "    Avg Stroke Rate  Elapsed Time  \n",
       "15             23.0          26.0  "
      ]
     },
     "execution_count": 32,
     "metadata": {},
     "output_type": "execute_result"
    }
   ],
   "source": [
    "# Columns to keep\n",
    "#=================\n",
    "keep_cols = ['Activity Type', 'Date', 'Distance', 'Calories',\n",
    "       'Avg HR', 'Max HR', 'Avg Pace', 'Best Pace', 'Total Strokes', \n",
    "             'Avg. Swolf', 'Avg Stroke Rate',  'Elapsed Time']\n",
    "\n",
    "garmin = garmin[keep_cols]\n",
    "\n",
    "\n",
    "# Change date to datetime and create 2022 dataset\n",
    "#=================================================\n",
    "garmin[\"Date\"] = pd.to_datetime(garmin[\"Date\"])\n",
    "garmin[\"Year\"] = garmin[\"Date\"].dt.year\n",
    "garmin = garmin[garmin[\"Year\"] == 2022]\n",
    "del garmin[\"Year\"]\n",
    "\n",
    "swim.head(1)"
   ]
  },
  {
   "cell_type": "code",
   "execution_count": 33,
   "id": "deae82b4-97fc-44a1-af76-4ca7387529e5",
   "metadata": {},
   "outputs": [],
   "source": [
    "# Change columns to integer\n",
    "#===========================\n",
    "change_int = ['Distance', 'Calories',\n",
    "              'Avg HR', 'Max HR', 'Total Strokes', \n",
    "              'Avg. Swolf', 'Avg Stroke Rate']\n",
    "\n",
    "# Edit strings\n",
    "garmin[change_int] = garmin[change_int].replace(\",\",\"\", regex=True)\n",
    "garmin[change_int] = garmin[change_int].replace(\"--\",\"0\", regex=True)\n",
    "\n",
    "# Change to float\n",
    "garmin[change_int] = garmin[change_int].astype(float)\n",
    "\n",
    "\n",
    "# Change elapsed time to datetime\n",
    "#=================================\n",
    "garmin['Elapsed Time'] = pd.to_datetime(garmin['Elapsed Time'], format='%H:%M:%S')\n",
    "garmin['Elapsed Time'] = garmin['Elapsed Time'].dt.hour*60 + garmin['Elapsed Time'].dt.minute + garmin['Elapsed Time'].dt.second/60\n",
    "garmin['Elapsed Time'] = round(garmin['Elapsed Time'])"
   ]
  },
  {
   "cell_type": "markdown",
   "id": "7e70f4d8-8d88-4d05-a699-bd2ffa789c8a",
   "metadata": {},
   "source": [
    "**Create Swimming Dataset**"
   ]
  },
  {
   "cell_type": "code",
   "execution_count": 36,
   "id": "74b9ed6a-3f32-4471-bd03-764f61ab6a30",
   "metadata": {},
   "outputs": [
    {
     "data": {
      "text/html": [
       "<div>\n",
       "<style scoped>\n",
       "    .dataframe tbody tr th:only-of-type {\n",
       "        vertical-align: middle;\n",
       "    }\n",
       "\n",
       "    .dataframe tbody tr th {\n",
       "        vertical-align: top;\n",
       "    }\n",
       "\n",
       "    .dataframe thead th {\n",
       "        text-align: right;\n",
       "    }\n",
       "</style>\n",
       "<table border=\"1\" class=\"dataframe\">\n",
       "  <thead>\n",
       "    <tr style=\"text-align: right;\">\n",
       "      <th></th>\n",
       "      <th>Activity Type</th>\n",
       "      <th>Date</th>\n",
       "      <th>Distance</th>\n",
       "      <th>Calories</th>\n",
       "      <th>Avg HR</th>\n",
       "      <th>Max HR</th>\n",
       "      <th>Avg Pace</th>\n",
       "      <th>Best Pace</th>\n",
       "      <th>Total Strokes</th>\n",
       "      <th>Avg. Swolf</th>\n",
       "      <th>Avg Stroke Rate</th>\n",
       "      <th>Elapsed Time</th>\n",
       "    </tr>\n",
       "  </thead>\n",
       "  <tbody>\n",
       "    <tr>\n",
       "      <th>15</th>\n",
       "      <td>Pool Swimming</td>\n",
       "      <td>2022-11-16 08:14:07</td>\n",
       "      <td>1000.0</td>\n",
       "      <td>205.0</td>\n",
       "      <td>128.0</td>\n",
       "      <td>161.0</td>\n",
       "      <td>2:04</td>\n",
       "      <td>1:40</td>\n",
       "      <td>470.0</td>\n",
       "      <td>43.0</td>\n",
       "      <td>23.0</td>\n",
       "      <td>26.0</td>\n",
       "    </tr>\n",
       "  </tbody>\n",
       "</table>\n",
       "</div>"
      ],
      "text/plain": [
       "    Activity Type                Date  Distance  Calories  Avg HR  Max HR  \\\n",
       "15  Pool Swimming 2022-11-16 08:14:07    1000.0     205.0   128.0   161.0   \n",
       "\n",
       "   Avg Pace Best Pace  Total Strokes  Avg. Swolf  Avg Stroke Rate  \\\n",
       "15     2:04      1:40          470.0        43.0             23.0   \n",
       "\n",
       "    Elapsed Time  \n",
       "15          26.0  "
      ]
     },
     "execution_count": 36,
     "metadata": {},
     "output_type": "execute_result"
    }
   ],
   "source": [
    "swim = garmin[ garmin['Activity Type'] == \"Pool Swimming\" ]\n",
    "swim.head(1)"
   ]
  },
  {
   "cell_type": "markdown",
   "id": "35e12396-e5b5-4974-b56e-b2a09b395a69",
   "metadata": {},
   "source": [
    "## Statistics"
   ]
  },
  {
   "cell_type": "markdown",
   "id": "634f0e0c-d054-4780-977c-5fe3db474ef7",
   "metadata": {},
   "source": [
    "### Totals\n",
    "\n",
    "**Total statistics for outdoor cycling**"
   ]
  },
  {
   "cell_type": "code",
   "execution_count": 37,
   "id": "101b0b08-aa61-45ee-ba5b-402eb760967a",
   "metadata": {},
   "outputs": [
    {
     "data": {
      "text/plain": [
       "Distance         47415.0\n",
       "Calories          9641.0\n",
       "Elapsed Time      1301.0\n",
       "Total Strokes    21747.0\n",
       "dtype: float64"
      ]
     },
     "execution_count": 37,
     "metadata": {},
     "output_type": "execute_result"
    }
   ],
   "source": [
    "sum_cols = ['Distance', 'Calories', 'Elapsed Time', 'Total Strokes']\n",
    "\n",
    "swim[sum_cols].sum()"
   ]
  },
  {
   "cell_type": "code",
   "execution_count": null,
   "id": "1d5784b0-1049-469c-b57c-8619ec78e5ae",
   "metadata": {},
   "outputs": [],
   "source": []
  }
 ],
 "metadata": {
  "kernelspec": {
   "display_name": "Python 3 (ipykernel)",
   "language": "python",
   "name": "python3"
  },
  "language_info": {
   "codemirror_mode": {
    "name": "ipython",
    "version": 3
   },
   "file_extension": ".py",
   "mimetype": "text/x-python",
   "name": "python",
   "nbconvert_exporter": "python",
   "pygments_lexer": "ipython3",
   "version": "3.9.12"
  }
 },
 "nbformat": 4,
 "nbformat_minor": 5
}
