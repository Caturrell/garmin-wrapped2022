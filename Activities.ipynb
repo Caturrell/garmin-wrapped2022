{
 "cells": [
  {
   "cell_type": "markdown",
   "id": "1f41f506-fb36-4fd0-8f10-7983cfdc1a42",
   "metadata": {
    "tags": []
   },
   "source": [
    "# Garmin Data Exploration and Wrangling"
   ]
  },
  {
   "cell_type": "markdown",
   "id": "e1a7f726-9584-4467-9103-9087f0ccb6b5",
   "metadata": {
    "tags": []
   },
   "source": [
    "### Preliminary Work\n",
    "\n",
    "Firstly, we import the required packages then import the dataset and view the first few rows."
   ]
  },
  {
   "cell_type": "code",
   "execution_count": 25,
   "id": "e9f3f44d-8e75-48f4-ad22-5cf81bac54f6",
   "metadata": {},
   "outputs": [],
   "source": [
    "import math\n",
    "import numpy as np\n",
    "import pandas as pd\n",
    "import matplotlib.pyplot as plt\n",
    "%matplotlib inline"
   ]
  },
  {
   "cell_type": "markdown",
   "id": "66f3a24b-f277-40bc-afe9-099d7081a9ae",
   "metadata": {},
   "source": [
    "Now, read the csv file and view the head of the data."
   ]
  },
  {
   "cell_type": "code",
   "execution_count": 26,
   "id": "3c16d610-0132-4ace-922e-56bed621e031",
   "metadata": {},
   "outputs": [],
   "source": [
    "garmin = pd.read_csv(\"activities.csv\")"
   ]
  },
  {
   "cell_type": "markdown",
   "id": "4e5ae3f3-7f31-4d2b-91d7-2139bb8d5d57",
   "metadata": {},
   "source": [
    "Let's view the general info of the dataset"
   ]
  },
  {
   "cell_type": "code",
   "execution_count": 27,
   "id": "5f20e27e-b48e-4a73-8e38-5657579900a4",
   "metadata": {},
   "outputs": [
    {
     "name": "stdout",
     "output_type": "stream",
     "text": [
      "Number of columns in dataset: 160\n",
      "\n",
      "<class 'pandas.core.frame.DataFrame'>\n",
      "RangeIndex: 160 entries, 0 to 159\n",
      "Data columns (total 43 columns):\n",
      " #   Column                    Non-Null Count  Dtype  \n",
      "---  ------                    --------------  -----  \n",
      " 0   Activity Type             160 non-null    object \n",
      " 1   Date                      160 non-null    object \n",
      " 2   Favorite                  160 non-null    bool   \n",
      " 3   Title                     160 non-null    object \n",
      " 4   Distance                  160 non-null    object \n",
      " 5   Calories                  160 non-null    object \n",
      " 6   Time                      160 non-null    object \n",
      " 7   Avg HR                    160 non-null    int64  \n",
      " 8   Max HR                    160 non-null    int64  \n",
      " 9   Aerobic TE                160 non-null    object \n",
      " 10  Avg Run Cadence           160 non-null    int64  \n",
      " 11  Max Run Cadence           160 non-null    int64  \n",
      " 12  Avg Pace                  160 non-null    object \n",
      " 13  Best Pace                 160 non-null    object \n",
      " 14  Total Ascent              160 non-null    object \n",
      " 15  Total Descent             160 non-null    object \n",
      " 16  Avg Stride Length         160 non-null    float64\n",
      " 17  Avg Vertical Ratio        160 non-null    float64\n",
      " 18  Avg Vertical Oscillation  160 non-null    float64\n",
      " 19  Avg Ground Contact Time   160 non-null    int64  \n",
      " 20  Avg Run Cadence.1         160 non-null    int64  \n",
      " 21  Max Run Cadence.1         160 non-null    int64  \n",
      " 22  Training Stress Score®    160 non-null    float64\n",
      " 23  Max Avg Power (20 min)    160 non-null    object \n",
      " 24  Avg Power                 160 non-null    int64  \n",
      " 25  Max Power                 160 non-null    int64  \n",
      " 26  Grit                      160 non-null    float64\n",
      " 27  Flow                      160 non-null    float64\n",
      " 28  Total Strokes             160 non-null    object \n",
      " 29  Avg. Swolf                160 non-null    int64  \n",
      " 30  Avg Stroke Rate           160 non-null    int64  \n",
      " 31  Total Reps                160 non-null    int64  \n",
      " 32  Dive Time                 160 non-null    object \n",
      " 33  Min Temp                  160 non-null    float64\n",
      " 34  Surface Interval          160 non-null    object \n",
      " 35  Decompression             160 non-null    object \n",
      " 36  Best Lap Time             160 non-null    object \n",
      " 37  Number of Laps            160 non-null    int64  \n",
      " 38  Max Temp                  160 non-null    float64\n",
      " 39  Moving Time               160 non-null    object \n",
      " 40  Elapsed Time              160 non-null    object \n",
      " 41  Min Elevation             160 non-null    object \n",
      " 42  Max Elevation             160 non-null    object \n",
      "dtypes: bool(1), float64(8), int64(13), object(21)\n",
      "memory usage: 52.8+ KB\n",
      "None\n"
     ]
    }
   ],
   "source": [
    "print(\"Number of columns in dataset:\", len(garmin))\n",
    "print()\n",
    "print(garmin.info())"
   ]
  },
  {
   "cell_type": "markdown",
   "id": "7577b160-b698-4dc5-b117-d91c8876e102",
   "metadata": {
    "tags": []
   },
   "source": [
    "## Data Wrangling"
   ]
  },
  {
   "cell_type": "markdown",
   "id": "ca1d8129-8bfd-430f-adb4-c85b705b0a2f",
   "metadata": {
    "tags": []
   },
   "source": [
    "### Change Column Names\n",
    "\n",
    "View column names and change them to suitable, easy to manage names."
   ]
  },
  {
   "cell_type": "code",
   "execution_count": 28,
   "id": "4d89c1e8-7fd7-4b65-a118-70fd0de76135",
   "metadata": {},
   "outputs": [],
   "source": [
    "garmin.columns = ['activity', 'date', 'fav', 'title', 'distance', 'calories', \n",
    "                  'time', 'avg_hr', 'max_hr', 'aerobic_te', 'avg_run_cadence',\n",
    "                  'max_run_cadence', 'avg_pace', 'best_pace', 'total_ascent',\n",
    "                  'total_descent', 'avg_stride', 'avg_vert_ratio', \n",
    "                  'avg_vert_osc', 'avg_ground_contact',\n",
    "                  'avg_run_cadence1', 'max_run_cadence1', 'training_stress', 'max_avg_power20',\n",
    "                  'avg_power', 'max_power', 'grit', 'flow', 'total_strokes', 'avg_swolf',\n",
    "                  'avg_stroke_rate', 'total_reps', 'dive_time', 'min_temp',\n",
    "                  'surface_interval', 'decomp', 'best_lap', 'number_laps',\n",
    "                  'max_temp', 'moving_time', 'elapsed_time', 'min_elav', 'max_elav' ]"
   ]
  },
  {
   "cell_type": "markdown",
   "id": "d3790ace-c74c-4cad-afcf-7713329aebd1",
   "metadata": {},
   "source": [
    "### Change Column Data Types"
   ]
  },
  {
   "cell_type": "code",
   "execution_count": 29,
   "id": "b81c4f93-e421-465d-97cb-1e7120974782",
   "metadata": {},
   "outputs": [],
   "source": [
    "# Choose columns to change\n",
    "change_int = ['distance', 'calories', 'aerobic_te', 'total_ascent', 'total_descent', \n",
    "              'max_avg_power20', 'total_strokes', 'min_elav', 'max_elav']\n",
    "\n",
    "change_time3 = ['time', 'moving_time', 'elapsed_time']\n",
    "\n",
    "\n",
    "# Remove commas from dataset\n",
    "garmin[change_int] = garmin[change_int].replace(\",\", \"\", regex=True)\n",
    "\n",
    "# Change \"--\" to 0 in whole dataset\n",
    "garmin = garmin.replace(\"--\",\"\", regex=True)\n",
    "\n",
    "# Change empty cells to 0 and hope for the best\n",
    "garmin[change_int] = garmin[change_int].replace(\"\", \"0\", regex=True)"
   ]
  },
  {
   "cell_type": "markdown",
   "id": "b7b30346-ecb6-42f0-9834-490b5ff91014",
   "metadata": {},
   "source": [
    "**Convert Column Data Types**"
   ]
  },
  {
   "cell_type": "code",
   "execution_count": 30,
   "id": "b7cc3203-abe6-4585-a9fe-d5d64982c296",
   "metadata": {},
   "outputs": [],
   "source": [
    "# Change to floats\n",
    "garmin[change_int] = garmin[change_int].astype(float)\n",
    "\n",
    "# Change date to datetime\n",
    "garmin[\"date\"] = pd.to_datetime(garmin[\"date\"])\n",
    "\n",
    "# Change to time columns \"00:00:00\"\n",
    "garmin['time'] = pd.to_datetime(garmin['time'], format='%H:%M:%S')\n",
    "garmin['moving_time'] = pd.to_datetime(garmin['moving_time'], format='%H:%M:%S')\n",
    "garmin['elapsed_time'] = pd.to_datetime(garmin['elapsed_time'], format='%H:%M:%S')"
   ]
  },
  {
   "cell_type": "markdown",
   "id": "9035d180-be29-4564-88d6-6a76022b3ecb",
   "metadata": {
    "tags": []
   },
   "source": [
    "### Create 2022 Dataset"
   ]
  },
  {
   "cell_type": "code",
   "execution_count": 31,
   "id": "c182a4f5-0bfc-42a1-8a46-3690c176d2b2",
   "metadata": {},
   "outputs": [],
   "source": [
    "garmin[\"year\"] = garmin[\"date\"].dt.year\n",
    "garmin22 = garmin[garmin[\"year\"] == 2022]"
   ]
  },
  {
   "cell_type": "markdown",
   "id": "0a9b1752-09eb-4e18-9444-9ecf7ab44ff1",
   "metadata": {
    "tags": []
   },
   "source": [
    "### Remove/Change Data Entries\n",
    "\n",
    "$\\textbf{Cycling Data Entry}$"
   ]
  },
  {
   "cell_type": "code",
   "execution_count": 32,
   "id": "fe8dddc9-a555-423b-9dde-9cef0071525f",
   "metadata": {},
   "outputs": [
    {
     "data": {
      "text/html": [
       "<div>\n",
       "<style scoped>\n",
       "    .dataframe tbody tr th:only-of-type {\n",
       "        vertical-align: middle;\n",
       "    }\n",
       "\n",
       "    .dataframe tbody tr th {\n",
       "        vertical-align: top;\n",
       "    }\n",
       "\n",
       "    .dataframe thead th {\n",
       "        text-align: right;\n",
       "    }\n",
       "</style>\n",
       "<table border=\"1\" class=\"dataframe\">\n",
       "  <thead>\n",
       "    <tr style=\"text-align: right;\">\n",
       "      <th></th>\n",
       "      <th>activity</th>\n",
       "      <th>date</th>\n",
       "      <th>fav</th>\n",
       "      <th>title</th>\n",
       "      <th>distance</th>\n",
       "      <th>calories</th>\n",
       "      <th>time</th>\n",
       "      <th>avg_hr</th>\n",
       "      <th>max_hr</th>\n",
       "      <th>aerobic_te</th>\n",
       "      <th>...</th>\n",
       "      <th>surface_interval</th>\n",
       "      <th>decomp</th>\n",
       "      <th>best_lap</th>\n",
       "      <th>number_laps</th>\n",
       "      <th>max_temp</th>\n",
       "      <th>moving_time</th>\n",
       "      <th>elapsed_time</th>\n",
       "      <th>min_elav</th>\n",
       "      <th>max_elav</th>\n",
       "      <th>year</th>\n",
       "    </tr>\n",
       "  </thead>\n",
       "  <tbody>\n",
       "    <tr>\n",
       "      <th>138</th>\n",
       "      <td>Cycling</td>\n",
       "      <td>2022-01-17 11:56:45</td>\n",
       "      <td>False</td>\n",
       "      <td>South Gloucestershire Cycling</td>\n",
       "      <td>23.22</td>\n",
       "      <td>813.0</td>\n",
       "      <td>1900-01-01 01:02:41</td>\n",
       "      <td>144</td>\n",
       "      <td>179</td>\n",
       "      <td>4.4</td>\n",
       "      <td>...</td>\n",
       "      <td>0:00</td>\n",
       "      <td>No</td>\n",
       "      <td>09:35.47.4</td>\n",
       "      <td>5</td>\n",
       "      <td>0.0</td>\n",
       "      <td>1900-01-01 00:59:07</td>\n",
       "      <td>1900-01-01 01:02:41</td>\n",
       "      <td>43.0</td>\n",
       "      <td>80.0</td>\n",
       "      <td>2022</td>\n",
       "    </tr>\n",
       "  </tbody>\n",
       "</table>\n",
       "<p>1 rows × 44 columns</p>\n",
       "</div>"
      ],
      "text/plain": [
       "    activity                date    fav                          title  \\\n",
       "138  Cycling 2022-01-17 11:56:45  False  South Gloucestershire Cycling   \n",
       "\n",
       "     distance  calories                time  avg_hr  max_hr  aerobic_te  ...  \\\n",
       "138     23.22     813.0 1900-01-01 01:02:41     144     179         4.4  ...   \n",
       "\n",
       "     surface_interval  decomp    best_lap number_laps  max_temp  \\\n",
       "138              0:00      No  09:35.47.4           5       0.0   \n",
       "\n",
       "            moving_time        elapsed_time  min_elav  max_elav  year  \n",
       "138 1900-01-01 00:59:07 1900-01-01 01:02:41      43.0      80.0  2022  \n",
       "\n",
       "[1 rows x 44 columns]"
      ]
     },
     "execution_count": 32,
     "metadata": {},
     "output_type": "execute_result"
    }
   ],
   "source": [
    "cycling = garmin22[garmin22['activity'] == 'Cycling']\n",
    "cycling.head(1)"
   ]
  },
  {
   "cell_type": "markdown",
   "id": "18f668c5-dea3-4af8-ab4c-3093f3ae2467",
   "metadata": {},
   "source": [
    "Appears to be a repeated entry - might have been recorded on my watch as well as my bike GPS."
   ]
  },
  {
   "cell_type": "code",
   "execution_count": 33,
   "id": "b910c93a-1b2d-49e1-a592-ae720332e81e",
   "metadata": {},
   "outputs": [],
   "source": [
    "# Remove cycling row\n",
    "garmin22 = garmin22[garmin22.activity != \"Cycling\"]"
   ]
  },
  {
   "cell_type": "markdown",
   "id": "ec083a82-5279-4028-a525-5343d51f2ef9",
   "metadata": {},
   "source": [
    "$\\textbf{Cardio Data Entry}$\n",
    "\n",
    "Change \"Cardio\" entries to \"Indoor Cycling\""
   ]
  },
  {
   "cell_type": "code",
   "execution_count": 34,
   "id": "d1dfc538-8b9e-44f8-822c-d8627dd5cba7",
   "metadata": {},
   "outputs": [],
   "source": [
    "cardio = garmin22[garmin22['activity'] == \"Cardio\"]"
   ]
  },
  {
   "cell_type": "code",
   "execution_count": 35,
   "id": "3f56d748-023e-41c5-abfa-5cd3ec949633",
   "metadata": {},
   "outputs": [],
   "source": [
    "# Change cardio to indoor cycling\n",
    "garmin22['activity'] = garmin['activity'].replace(['Cardio'], 'Indoor Cycling')\n",
    "\n",
    "# Change Resort skiing to snowboarding\n",
    "garmin22['activity'] = garmin['activity'].replace(['Resort Skiing/Snowboarding'], 'Snowboarding')"
   ]
  },
  {
   "cell_type": "markdown",
   "id": "b45d119a-9388-45df-acba-4017d9622982",
   "metadata": {},
   "source": [
    "## Activity Summary"
   ]
  },
  {
   "cell_type": "markdown",
   "id": "b50caf43-2117-462b-bcbc-78cb7820bfb4",
   "metadata": {
    "tags": []
   },
   "source": [
    "### Obtain Counts of Activities"
   ]
  },
  {
   "cell_type": "code",
   "execution_count": 36,
   "id": "b5778c7f-2e06-4233-9664-b23d5ee5bbd7",
   "metadata": {},
   "outputs": [
    {
     "name": "stdout",
     "output_type": "stream",
     "text": [
      "Number of activites in 2022: 148\n"
     ]
    },
    {
     "data": {
      "text/plain": [
       "Running              51\n",
       "Pool Swimming        38\n",
       "Hiking               13\n",
       "Mountain Biking      11\n",
       "Indoor Cycling       10\n",
       "Treadmill Running     7\n",
       "Snowboarding          7\n",
       "Cardio                6\n",
       "Road Cycling          5\n",
       "Name: activity, dtype: int64"
      ]
     },
     "execution_count": 36,
     "metadata": {},
     "output_type": "execute_result"
    }
   ],
   "source": [
    "print(\"Number of activites in 2022:\", garmin22.count()[0])\n",
    "garmin22[\"activity\"].value_counts()"
   ]
  },
  {
   "cell_type": "markdown",
   "id": "7b6b11f1-d5ea-4b1c-a16c-e0efe6524dd2",
   "metadata": {
    "tags": []
   },
   "source": [
    "### Frequency Comparison\n",
    "\n",
    "**Pie Chart**"
   ]
  },
  {
   "cell_type": "code",
   "execution_count": 37,
   "id": "8ea162ef-d523-45ce-8c84-840f577d936f",
   "metadata": {},
   "outputs": [
    {
     "data": {
      "image/png": "[encoded data removed]",
      "text/plain": [
       "<Figure size 432x432 with 1 Axes>"
      ]
     },
     "metadata": {},
     "output_type": "display_data"
    }
   ],
   "source": [
    "# Frequency table for activities\n",
    "garmin22_activities = garmin22.groupby('activity').size().to_frame('Count')\n",
    "\n",
    "# Create pie chart with percentage ratios\n",
    "fig = plt.subplots(figsize=(6,6))\n",
    "plt.pie(garmin22_activities['Count'], \n",
    "        labels = garmin22_activities.index,\n",
    "        autopct = '%1.0f%%',\n",
    "        wedgeprops = {'linewidth': 1.0, 'edgecolor': 'white'})\n",
    "plt.legend;"
   ]
  },
  {
   "cell_type": "markdown",
   "id": "ffa3eadd-d4fb-429d-b1a4-609ae038c3f6",
   "metadata": {},
   "source": [
    "**Bar Chart**"
   ]
  },
  {
   "cell_type": "code",
   "execution_count": 38,
   "id": "e1fa7cd0-23d4-45ae-883a-bc930705bb88",
   "metadata": {},
   "outputs": [
    {
     "data": {
      "image/png": "[encoded data removed]",
      "text/plain": [
       "<Figure size 576x432 with 1 Axes>"
      ]
     },
     "metadata": {
      "needs_background": "light"
     },
     "output_type": "display_data"
    }
   ],
   "source": [
    "fig_bar = plt.subplots(figsize=(8,6))\n",
    "plt.bar(garmin22_activities.index, garmin22_activities['Count'])\n",
    "plt.xticks(rotation=45);"
   ]
  },
  {
   "cell_type": "markdown",
   "id": "572fcf81-b0db-465b-b55a-2a1dee4e4a5f",
   "metadata": {},
   "source": [
    "## Totals"
   ]
  },
  {
   "cell_type": "markdown",
   "id": "24a84dcd-c6a7-4291-8f20-a94e19789148",
   "metadata": {},
   "source": [
    "### Calories"
   ]
  },
  {
   "cell_type": "code",
   "execution_count": 39,
   "id": "2981b6a0-1e81-4dbf-ae0a-10bb48cfdc36",
   "metadata": {},
   "outputs": [
    {
     "data": {
      "text/plain": [
       "distance         48584.34\n",
       "calories         76161.00\n",
       "total_ascent     13888.00\n",
       "total_descent    50647.00\n",
       "dtype: float64"
      ]
     },
     "execution_count": 39,
     "metadata": {},
     "output_type": "execute_result"
    }
   ],
   "source": [
    "sum_cols = ['distance', 'calories',\n",
    "            'total_ascent', 'total_descent']\n",
    "\n",
    "garmin22[sum_cols].sum()"
   ]
  },
  {
   "cell_type": "code",
   "execution_count": null,
   "id": "d8d565b2-2381-426a-b709-5b1d8bcb7de6",
   "metadata": {},
   "outputs": [],
   "source": []
  },
  {
   "cell_type": "code",
   "execution_count": null,
   "id": "3123bf0a-7142-4c32-9ddf-66cfb388f603",
   "metadata": {},
   "outputs": [],
   "source": []
  }
 ],
 "metadata": {
  "kernelspec": {
   "display_name": "Python 3 (ipykernel)",
   "language": "python",
   "name": "python3"
  },
  "language_info": {
   "codemirror_mode": {
    "name": "ipython",
    "version": 3
   },
   "file_extension": ".py",
   "mimetype": "text/x-python",
   "name": "python",
   "nbconvert_exporter": "python",
   "pygments_lexer": "ipython3",
   "version": "3.9.12"
  }
 },
 "nbformat": 4,
 "nbformat_minor": 5
}
