{
 "cells": [
  {
   "cell_type": "markdown",
   "id": "caf8d3a3-7a47-4007-96e5-8500bf88cca9",
   "metadata": {},
   "source": [
    "# Running Statistics"
   ]
  },
  {
   "cell_type": "markdown",
   "id": "17ade963-6808-4897-ab6a-ba9fef8f9ff1",
   "metadata": {
    "tags": []
   },
   "source": [
    "## Imports"
   ]
  },
  {
   "cell_type": "code",
   "execution_count": 90,
   "id": "e2a75ad9-e619-48c8-ad50-429f855ae9d4",
   "metadata": {},
   "outputs": [],
   "source": [
    "import numpy as np\n",
    "import matplotlib.pyplot as plt\n",
    "import pandas as pd\n",
    "%matplotlib inline"
   ]
  },
  {
   "cell_type": "code",
   "execution_count": 91,
   "id": "22232f7e-0acf-4227-bcbd-6d0f940a11f9",
   "metadata": {},
   "outputs": [],
   "source": [
    "# Load df\n",
    "garmin = pd.read_csv(\"activities.csv\")"
   ]
  },
  {
   "cell_type": "markdown",
   "id": "df63b087-a753-410d-827d-03141f7f4330",
   "metadata": {
    "tags": []
   },
   "source": [
    "## Data Wrangling"
   ]
  },
  {
   "cell_type": "markdown",
   "id": "59aea1fa-f816-4f5e-82cc-c370545483ee",
   "metadata": {
    "tags": []
   },
   "source": [
    "### Create a Running 2022 dataframe"
   ]
  },
  {
   "cell_type": "code",
   "execution_count": 92,
   "id": "0c7cd557-a3f1-4419-8fb8-db641bf4fd3d",
   "metadata": {},
   "outputs": [],
   "source": [
    "# Change variable names\n",
    "garmin.columns = ['activity', 'date', 'fav', 'title', 'distance', 'calories', \n",
    "                  'time', 'avg_hr', 'max_hr', 'aerobic_te', 'avg_run_cadence',\n",
    "                  'max_run_cadence', 'avg_pace', 'best_pace', 'total_ascent',\n",
    "                  'total_descent', 'avg_stride', 'avg_vert_ratio', \n",
    "                  'avg_vert_osc', 'avg_ground_contact',\n",
    "                  'avg_run_cadence1', 'max_run_cadence1', 'training_stress', 'max_avg_power20',\n",
    "                  'avg_power', 'max_power', 'grit', 'flow', 'total_strokes', 'avg_swolf',\n",
    "                  'avg_stroke_rate', 'total_reps', 'dive_time', 'min_temp',\n",
    "                  'surface_interval', 'decomp', 'best_lap', 'number_laps',\n",
    "                  'max_temp', 'moving_time', 'elapsed_time', 'min_elav', 'max_elav' ]\n",
    "\n",
    "# Change date to datetime\n",
    "garmin[\"date\"] = pd.to_datetime(garmin[\"date\"])\n",
    "\n",
    "# Create 2022 dataset\n",
    "garmin[\"year\"] = garmin[\"date\"].dt.year\n",
    "garmin22 = garmin[garmin[\"year\"] == 2022]"
   ]
  },
  {
   "cell_type": "code",
   "execution_count": 93,
   "id": "1c01dfa6-1036-412f-9cd7-7832bc8b088f",
   "metadata": {},
   "outputs": [
    {
     "name": "stdout",
     "output_type": "stream",
     "text": [
      "Number of rows in original dataframe: 160\n",
      "Number of rows in 2022 dataframe: 149\n",
      "Number of rows in running 2022 df: 51\n",
      "Number of rows in  treadmill running 2022 df: 7\n",
      "\n",
      "Number of rows in RUN 2022 df: 58\n"
     ]
    }
   ],
   "source": [
    "running = garmin22[ garmin22[\"activity\"] == \"Running\" ]\n",
    "tred_running = garmin22[ garmin22[\"activity\"] == \"Treadmill Running\" ]\n",
    "\n",
    "run = garmin22[ garmin22['activity'].isin([\"Running\", \"Treadmill Running\"]) ]\n",
    "\n",
    "print(\"Number of rows in original dataframe:\", garmin.count()[0])\n",
    "print(\"Number of rows in 2022 dataframe:\", len(garmin22))\n",
    "print(\"Number of rows in running 2022 df:\", len(running))\n",
    "print(\"Number of rows in  treadmill running 2022 df:\", len(tred_running))\n",
    "print()\n",
    "print(\"Number of rows in RUN 2022 df:\", len(run))"
   ]
  },
  {
   "cell_type": "markdown",
   "id": "01d6cae5-27e9-41f8-a8f0-dacc68003f8f",
   "metadata": {},
   "source": [
    "### Running Data Wrangling\n",
    "\n",
    "Trim unnecessary columns from the dataset and change the data type in columns."
   ]
  },
  {
   "cell_type": "code",
   "execution_count": 95,
   "id": "42c179a3-02e4-4c19-ad27-dda5715851a4",
   "metadata": {},
   "outputs": [],
   "source": [
    "# Trimming columns for running\n",
    "keep_cols = ['activity', 'date', 'distance', 'calories', \n",
    "            'time', 'avg_hr', 'max_hr', 'avg_run_cadence',\n",
    "            'max_run_cadence', 'avg_pace', 'best_pace', 'total_ascent',\n",
    "            'total_descent', 'avg_stride', 'number_laps', \n",
    "             'moving_time', 'elapsed_time', 'min_elav', 'max_elav' ]\n",
    "\n",
    "run = run[keep_cols]\n",
    "\n",
    "\n",
    "# Choose columns to change\n",
    "change_int = ['distance', 'calories', 'total_ascent', \n",
    "              'total_descent', 'min_elav', 'max_elav']\n",
    "\n",
    "\n",
    "# Remove commas from dataset\n",
    "run[change_int] = run[change_int].replace(\",\", \"\", regex=True)\n",
    "\n",
    "# Change \"--\" to 0 in whole dataset\n",
    "run = run.replace(\"--\",\"\", regex=True)\n",
    "\n",
    "# Change empty cells to 0 and hope for the best\n",
    "run[change_int] = run[change_int].replace(\"\", \"0\", regex=True)\n",
    "\n",
    "\n",
    "# Change to floats\n",
    "run[change_int] = run[change_int].astype(float)"
   ]
  },
  {
   "cell_type": "code",
   "execution_count": 96,
   "id": "0773eb18-62c7-4049-a751-c2ee94bfd3d0",
   "metadata": {},
   "outputs": [],
   "source": [
    "# Change to time columns \"0:00\"\n",
    "run['avg_pace'] = pd.to_datetime(run['avg_pace'], format='%M:%S')\n",
    "run['best_pace'] = pd.to_datetime(run['best_pace'], format='%M:%S')\n",
    "\n",
    "# Change to time columns \"00:00:00\"\n",
    "run['time'] = pd.to_datetime(run['time'], format='%H:%M:%S')\n",
    "run['moving_time'] = pd.to_datetime(run['moving_time'], format='%H:%M:%S')\n",
    "run['elapsed_time'] = pd.to_datetime(run['elapsed_time'], format='%H:%M:%S')"
   ]
  },
  {
   "cell_type": "markdown",
   "id": "ffebc8ff-315c-4e06-9549-97eddb88ca43",
   "metadata": {},
   "source": [
    "Slight issue with datetime cells. They have added in an arbitrary date. Will now convert them to number of minutes."
   ]
  },
  {
   "cell_type": "code",
   "execution_count": 97,
   "id": "ea0d9aed-484d-42d4-9d0e-64ef5e24ec28",
   "metadata": {},
   "outputs": [],
   "source": [
    "run['avg_pace'] = run['avg_pace'].dt.hour*60 + run['avg_pace'].dt.minute + run['avg_pace'].dt.second/60\n",
    "run['best_pace'] = run['best_pace'].dt.hour*60 + run['best_pace'].dt.minute + run['best_pace'].dt.second/60\n",
    "\n",
    "run['time'] = run['time'].dt.hour*60 + run['time'].dt.minute + run['time'].dt.second/60\n",
    "run['elapsed_time'] = run['elapsed_time'].dt.hour*60 + run['elapsed_time'].dt.minute + run['elapsed_time'].dt.second/60\n",
    "run['moving_time'] = run['moving_time'].dt.hour*60 + run['moving_time'].dt.minute + run['moving_time'].dt.second/60\n",
    "\n",
    "# Round them all to nearest minute\n",
    "run['time'] = round(run['time'])\n",
    "run['elapsed_time'] = round(run['elapsed_time'])\n",
    "run['moving_time'] = round(run['moving_time'])"
   ]
  },
  {
   "cell_type": "markdown",
   "id": "a22309b4-a766-4438-ac4d-0cd613768b43",
   "metadata": {},
   "source": [
    "## Data Exploration"
   ]
  },
  {
   "cell_type": "code",
   "execution_count": 98,
   "id": "4d085e7e-3689-4898-9c4e-c8173617ac0e",
   "metadata": {},
   "outputs": [
    {
     "data": {
      "text/html": [
       "<div>\n",
       "<style scoped>\n",
       "    .dataframe tbody tr th:only-of-type {\n",
       "        vertical-align: middle;\n",
       "    }\n",
       "\n",
       "    .dataframe tbody tr th {\n",
       "        vertical-align: top;\n",
       "    }\n",
       "\n",
       "    .dataframe thead th {\n",
       "        text-align: right;\n",
       "    }\n",
       "</style>\n",
       "<table border=\"1\" class=\"dataframe\">\n",
       "  <thead>\n",
       "    <tr style=\"text-align: right;\">\n",
       "      <th></th>\n",
       "      <th>activity</th>\n",
       "      <th>date</th>\n",
       "      <th>distance</th>\n",
       "      <th>calories</th>\n",
       "      <th>time</th>\n",
       "      <th>avg_hr</th>\n",
       "      <th>max_hr</th>\n",
       "      <th>avg_run_cadence</th>\n",
       "      <th>max_run_cadence</th>\n",
       "      <th>avg_pace</th>\n",
       "      <th>best_pace</th>\n",
       "      <th>total_ascent</th>\n",
       "      <th>total_descent</th>\n",
       "      <th>avg_stride</th>\n",
       "      <th>number_laps</th>\n",
       "      <th>moving_time</th>\n",
       "      <th>elapsed_time</th>\n",
       "      <th>min_elav</th>\n",
       "      <th>max_elav</th>\n",
       "    </tr>\n",
       "  </thead>\n",
       "  <tbody>\n",
       "    <tr>\n",
       "      <th>2</th>\n",
       "      <td>Running</td>\n",
       "      <td>2022-12-12 14:38:08</td>\n",
       "      <td>9.73</td>\n",
       "      <td>747.0</td>\n",
       "      <td>64.0</td>\n",
       "      <td>138</td>\n",
       "      <td>156</td>\n",
       "      <td>163</td>\n",
       "      <td>177</td>\n",
       "      <td>6.566667</td>\n",
       "      <td>4.95</td>\n",
       "      <td>55.0</td>\n",
       "      <td>56.0</td>\n",
       "      <td>0.93</td>\n",
       "      <td>10</td>\n",
       "      <td>63.0</td>\n",
       "      <td>64.0</td>\n",
       "      <td>6.0</td>\n",
       "      <td>40.0</td>\n",
       "    </tr>\n",
       "  </tbody>\n",
       "</table>\n",
       "</div>"
      ],
      "text/plain": [
       "  activity                date  distance  calories  time  avg_hr  max_hr  \\\n",
       "2  Running 2022-12-12 14:38:08      9.73     747.0  64.0     138     156   \n",
       "\n",
       "   avg_run_cadence  max_run_cadence  avg_pace  best_pace  total_ascent  \\\n",
       "2              163              177  6.566667       4.95          55.0   \n",
       "\n",
       "   total_descent  avg_stride  number_laps  moving_time  elapsed_time  \\\n",
       "2           56.0        0.93           10         63.0          64.0   \n",
       "\n",
       "   min_elav  max_elav  \n",
       "2       6.0      40.0  "
      ]
     },
     "execution_count": 98,
     "metadata": {},
     "output_type": "execute_result"
    }
   ],
   "source": [
    "run.head(1)"
   ]
  },
  {
   "cell_type": "code",
   "execution_count": 99,
   "id": "60cd9aec-74e8-49f0-891f-e47bf25745af",
   "metadata": {},
   "outputs": [
    {
     "data": {
      "text/plain": [
       "distance           381.06\n",
       "calories         29577.00\n",
       "time              2299.00\n",
       "elapsed_time      2299.00\n",
       "moving_time       2193.00\n",
       "total_ascent      3450.00\n",
       "total_descent     3440.00\n",
       "dtype: float64"
      ]
     },
     "execution_count": 99,
     "metadata": {},
     "output_type": "execute_result"
    }
   ],
   "source": [
    "sum_cols = ['distance', 'calories', 'time', \n",
    "            'elapsed_time', 'moving_time',\n",
    "            'total_ascent', 'total_descent']\n",
    "\n",
    "run[sum_cols].sum()"
   ]
  },
  {
   "cell_type": "code",
   "execution_count": null,
   "id": "eada48b3-191e-4aed-a992-a69f39e27c8c",
   "metadata": {},
   "outputs": [],
   "source": []
  },
  {
   "cell_type": "code",
   "execution_count": null,
   "id": "a4eb15d8-7916-42ce-beaf-f5d8d67896be",
   "metadata": {},
   "outputs": [],
   "source": []
  }
 ],
 "metadata": {
  "kernelspec": {
   "display_name": "Python 3 (ipykernel)",
   "language": "python",
   "name": "python3"
  },
  "language_info": {
   "codemirror_mode": {
    "name": "ipython",
    "version": 3
   },
   "file_extension": ".py",
   "mimetype": "text/x-python",
   "name": "python",
   "nbconvert_exporter": "python",
   "pygments_lexer": "ipython3",
   "version": "3.9.12"
  }
 },
 "nbformat": 4,
 "nbformat_minor": 5
}
