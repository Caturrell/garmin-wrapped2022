{
 "cells": [
  {
   "cell_type": "markdown",
   "id": "caf8d3a3-7a47-4007-96e5-8500bf88cca9",
   "metadata": {},
   "source": [
    "# Running Statistics"
   ]
  },
  {
   "cell_type": "code",
   "execution_count": 3,
   "id": "e2a75ad9-e619-48c8-ad50-429f855ae9d4",
   "metadata": {},
   "outputs": [],
   "source": [
    "import math\n",
    "import numpy as np\n",
    "import matplotlib.pyplot as plt\n",
    "%matplotlib inline"
   ]
  },
  {
   "cell_type": "code",
   "execution_count": null,
   "id": "d1f99175-555b-4dc5-bb4d-7b68972818aa",
   "metadata": {},
   "outputs": [],
   "source": []
  }
 ],
 "metadata": {
  "kernelspec": {
   "display_name": "Python 3 (ipykernel)",
   "language": "python",
   "name": "python3"
  },
  "language_info": {
   "codemirror_mode": {
    "name": "ipython",
    "version": 3
   },
   "file_extension": ".py",
   "mimetype": "text/x-python",
   "name": "python",
   "nbconvert_exporter": "python",
   "pygments_lexer": "ipython3",
   "version": "3.9.12"
  }
 },
 "nbformat": 4,
 "nbformat_minor": 5
}
