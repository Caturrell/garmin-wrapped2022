{
 "cells": [
  {
   "cell_type": "markdown",
   "id": "caf8d3a3-7a47-4007-96e5-8500bf88cca9",
   "metadata": {},
   "source": [
    "# Running Statistics"
   ]
  },
  {
   "cell_type": "markdown",
   "id": "17ade963-6808-4897-ab6a-ba9fef8f9ff1",
   "metadata": {
    "jp-MarkdownHeadingCollapsed": true,
    "tags": []
   },
   "source": [
    "### Imports"
   ]
  },
  {
   "cell_type": "code",
   "execution_count": 22,
   "id": "e2a75ad9-e619-48c8-ad50-429f855ae9d4",
   "metadata": {},
   "outputs": [],
   "source": [
    "import matplotlib.pyplot as plt\n",
    "import pandas as pd\n",
    "%matplotlib inline"
   ]
  },
  {
   "cell_type": "code",
   "execution_count": 23,
   "id": "22232f7e-0acf-4227-bcbd-6d0f940a11f9",
   "metadata": {},
   "outputs": [],
   "source": [
    "# Load df\n",
    "garmin = pd.read_csv(\"activities.csv\")"
   ]
  },
  {
   "cell_type": "markdown",
   "id": "df63b087-a753-410d-827d-03141f7f4330",
   "metadata": {},
   "source": [
    "## Data Wrangling"
   ]
  },
  {
   "cell_type": "markdown",
   "id": "59aea1fa-f816-4f5e-82cc-c370545483ee",
   "metadata": {
    "tags": []
   },
   "source": [
    "### Create a Running 2022 dataframe"
   ]
  },
  {
   "cell_type": "code",
   "execution_count": 24,
   "id": "0c7cd557-a3f1-4419-8fb8-db641bf4fd3d",
   "metadata": {},
   "outputs": [],
   "source": [
    "# Change variable names\n",
    "garmin.columns = ['activity', 'date', 'fav', 'title', 'distance', 'calories', \n",
    "                  'time', 'avg_hr', 'max_hr', 'aerobic_te', 'avg_run_cadence',\n",
    "                  'max_run_cadence', 'avg_pace', 'best_pace', 'total_ascent',\n",
    "                  'total_descent', 'avg_stride', 'avg_vert_ratio', \n",
    "                  'avg_vert_osc', 'avg_ground_contact',\n",
    "                  'avg_run_cadence1', 'max_run_cadence1', 'training_stress', 'max_avg_power20',\n",
    "                  'avg_power', 'max_power', 'grit', 'flow', 'total_strokes', 'avg_swolf',\n",
    "                  'avg_stroke_rate', 'total_reps', 'dive_time', 'min_temp',\n",
    "                  'surface_interval', 'decomp', 'best_lap', 'number_laps',\n",
    "                  'max_temp', 'moving_time', 'elapsed_time', 'min_elav', 'max_elav' ]\n",
    "\n",
    "# Change column to datetime type\n",
    "garmin[\"date\"] = pd.to_datetime(garmin[\"date\"])\n",
    "\n",
    "# Create 2022 dataset\n",
    "garmin[\"year\"] = garmin[\"date\"].dt.year\n",
    "garmin22 = garmin[garmin[\"year\"] == 2022]"
   ]
  },
  {
   "cell_type": "code",
   "execution_count": 35,
   "id": "1c01dfa6-1036-412f-9cd7-7832bc8b088f",
   "metadata": {},
   "outputs": [
    {
     "name": "stdout",
     "output_type": "stream",
     "text": [
      "Number of rows in original dataframe: 160\n",
      "Number of rows in 2022 dataframe: 149\n",
      "Number of rows in running 2022 df: 51\n",
      "Number of rows in  treadmill running 2022 df: 7\n",
      "\n",
      "Number of rows in RUN 2022 df: 58\n"
     ]
    }
   ],
   "source": [
    "running = garmin22[ garmin22[\"activity\"] == \"Running\" ]\n",
    "tred_running = garmin22[ garmin22[\"activity\"] == \"Treadmill Running\" ]\n",
    "\n",
    "run = garmin22[ garmin22['activity'].isin([\"Running\", \"Treadmill Running\"]) ]\n",
    "\n",
    "print(\"Number of rows in original dataframe:\", garmin.count()[0])\n",
    "print(\"Number of rows in 2022 dataframe:\", len(garmin22))\n",
    "print(\"Number of rows in running 2022 df:\", len(running))\n",
    "print(\"Number of rows in  treadmill running 2022 df:\", len(tred_running))\n",
    "print()\n",
    "print(\"Number of rows in RUN 2022 df:\", len(run))"
   ]
  },
  {
   "cell_type": "markdown",
   "id": "30fbf4c1-26ba-4664-9b68-e6fdd02834d0",
   "metadata": {},
   "source": [
    "## Data Exploration"
   ]
  },
  {
   "cell_type": "markdown",
   "id": "01d6cae5-27e9-41f8-a8f0-dacc68003f8f",
   "metadata": {},
   "source": [
    "### Running Data Wrangling\n",
    "\n",
    "Trim unnecessary columns from the dataset."
   ]
  },
  {
   "cell_type": "code",
   "execution_count": 36,
   "id": "42c179a3-02e4-4c19-ad27-dda5715851a4",
   "metadata": {},
   "outputs": [
    {
     "data": {
      "text/html": [
       "<div>\n",
       "<style scoped>\n",
       "    .dataframe tbody tr th:only-of-type {\n",
       "        vertical-align: middle;\n",
       "    }\n",
       "\n",
       "    .dataframe tbody tr th {\n",
       "        vertical-align: top;\n",
       "    }\n",
       "\n",
       "    .dataframe thead th {\n",
       "        text-align: right;\n",
       "    }\n",
       "</style>\n",
       "<table border=\"1\" class=\"dataframe\">\n",
       "  <thead>\n",
       "    <tr style=\"text-align: right;\">\n",
       "      <th></th>\n",
       "      <th>activity</th>\n",
       "      <th>date</th>\n",
       "      <th>distance</th>\n",
       "      <th>calories</th>\n",
       "      <th>time</th>\n",
       "      <th>avg_hr</th>\n",
       "      <th>max_hr</th>\n",
       "      <th>aerobic_te</th>\n",
       "      <th>avg_run_cadence</th>\n",
       "      <th>max_run_cadence</th>\n",
       "      <th>...</th>\n",
       "      <th>total_ascent</th>\n",
       "      <th>total_descent</th>\n",
       "      <th>avg_stride</th>\n",
       "      <th>avg_vert_ratio</th>\n",
       "      <th>best_lap</th>\n",
       "      <th>number_laps</th>\n",
       "      <th>moving_time</th>\n",
       "      <th>elapsed_time</th>\n",
       "      <th>min_elav</th>\n",
       "      <th>max_elav</th>\n",
       "    </tr>\n",
       "  </thead>\n",
       "  <tbody>\n",
       "    <tr>\n",
       "      <th>2</th>\n",
       "      <td>Running</td>\n",
       "      <td>2022-12-12 14:38:08</td>\n",
       "      <td>9.73</td>\n",
       "      <td>747</td>\n",
       "      <td>01:03:58</td>\n",
       "      <td>138</td>\n",
       "      <td>156</td>\n",
       "      <td>3.2</td>\n",
       "      <td>163</td>\n",
       "      <td>177</td>\n",
       "      <td>...</td>\n",
       "      <td>55</td>\n",
       "      <td>56</td>\n",
       "      <td>0.93</td>\n",
       "      <td>0.0</td>\n",
       "      <td>04:43.60.8</td>\n",
       "      <td>10</td>\n",
       "      <td>01:02:58</td>\n",
       "      <td>01:03:58</td>\n",
       "      <td>6</td>\n",
       "      <td>40</td>\n",
       "    </tr>\n",
       "    <tr>\n",
       "      <th>3</th>\n",
       "      <td>Running</td>\n",
       "      <td>2022-12-07 15:48:15</td>\n",
       "      <td>5.66</td>\n",
       "      <td>444</td>\n",
       "      <td>00:41:19</td>\n",
       "      <td>127</td>\n",
       "      <td>151</td>\n",
       "      <td>2.9</td>\n",
       "      <td>139</td>\n",
       "      <td>232</td>\n",
       "      <td>...</td>\n",
       "      <td>27</td>\n",
       "      <td>25</td>\n",
       "      <td>1.01</td>\n",
       "      <td>0.0</td>\n",
       "      <td>05:35.67.4</td>\n",
       "      <td>6</td>\n",
       "      <td>00:34:22</td>\n",
       "      <td>00:41:19</td>\n",
       "      <td>8</td>\n",
       "      <td>23</td>\n",
       "    </tr>\n",
       "    <tr>\n",
       "      <th>4</th>\n",
       "      <td>Running</td>\n",
       "      <td>2022-12-05 12:38:49</td>\n",
       "      <td>5.11</td>\n",
       "      <td>397</td>\n",
       "      <td>00:36:00</td>\n",
       "      <td>129</td>\n",
       "      <td>150</td>\n",
       "      <td>2.7</td>\n",
       "      <td>149</td>\n",
       "      <td>175</td>\n",
       "      <td>...</td>\n",
       "      <td>23</td>\n",
       "      <td>28</td>\n",
       "      <td>0.95</td>\n",
       "      <td>0.0</td>\n",
       "      <td>00:49.93.8</td>\n",
       "      <td>6</td>\n",
       "      <td>00:33:52</td>\n",
       "      <td>00:36:00</td>\n",
       "      <td>4</td>\n",
       "      <td>17</td>\n",
       "    </tr>\n",
       "    <tr>\n",
       "      <th>5</th>\n",
       "      <td>Running</td>\n",
       "      <td>2022-12-02 15:08:53</td>\n",
       "      <td>8.26</td>\n",
       "      <td>621</td>\n",
       "      <td>00:49:36</td>\n",
       "      <td>137</td>\n",
       "      <td>149</td>\n",
       "      <td>3.2</td>\n",
       "      <td>167</td>\n",
       "      <td>174</td>\n",
       "      <td>...</td>\n",
       "      <td>18</td>\n",
       "      <td>19</td>\n",
       "      <td>1.00</td>\n",
       "      <td>0.0</td>\n",
       "      <td>01:26.81.8</td>\n",
       "      <td>9</td>\n",
       "      <td>00:49:04</td>\n",
       "      <td>00:49:36</td>\n",
       "      <td>6</td>\n",
       "      <td>20</td>\n",
       "    </tr>\n",
       "    <tr>\n",
       "      <th>6</th>\n",
       "      <td>Running</td>\n",
       "      <td>2022-11-30 16:04:14</td>\n",
       "      <td>5.32</td>\n",
       "      <td>398</td>\n",
       "      <td>00:30:22</td>\n",
       "      <td>139</td>\n",
       "      <td>156</td>\n",
       "      <td>3.1</td>\n",
       "      <td>165</td>\n",
       "      <td>176</td>\n",
       "      <td>...</td>\n",
       "      <td>30</td>\n",
       "      <td>29</td>\n",
       "      <td>1.06</td>\n",
       "      <td>0.0</td>\n",
       "      <td>01:53.16.6</td>\n",
       "      <td>6</td>\n",
       "      <td>00:29:55</td>\n",
       "      <td>00:30:22</td>\n",
       "      <td>6</td>\n",
       "      <td>24</td>\n",
       "    </tr>\n",
       "  </tbody>\n",
       "</table>\n",
       "<p>5 rows × 22 columns</p>\n",
       "</div>"
      ],
      "text/plain": [
       "  activity                date distance calories      time  avg_hr  max_hr  \\\n",
       "2  Running 2022-12-12 14:38:08     9.73      747  01:03:58     138     156   \n",
       "3  Running 2022-12-07 15:48:15     5.66      444  00:41:19     127     151   \n",
       "4  Running 2022-12-05 12:38:49     5.11      397  00:36:00     129     150   \n",
       "5  Running 2022-12-02 15:08:53     8.26      621  00:49:36     137     149   \n",
       "6  Running 2022-11-30 16:04:14     5.32      398  00:30:22     139     156   \n",
       "\n",
       "  aerobic_te  avg_run_cadence  max_run_cadence  ... total_ascent  \\\n",
       "2        3.2              163              177  ...           55   \n",
       "3        2.9              139              232  ...           27   \n",
       "4        2.7              149              175  ...           23   \n",
       "5        3.2              167              174  ...           18   \n",
       "6        3.1              165              176  ...           30   \n",
       "\n",
       "  total_descent avg_stride avg_vert_ratio    best_lap  number_laps  \\\n",
       "2            56       0.93            0.0  04:43.60.8           10   \n",
       "3            25       1.01            0.0  05:35.67.4            6   \n",
       "4            28       0.95            0.0  00:49.93.8            6   \n",
       "5            19       1.00            0.0  01:26.81.8            9   \n",
       "6            29       1.06            0.0  01:53.16.6            6   \n",
       "\n",
       "  moving_time  elapsed_time min_elav max_elav  \n",
       "2    01:02:58      01:03:58        6       40  \n",
       "3    00:34:22      00:41:19        8       23  \n",
       "4    00:33:52      00:36:00        4       17  \n",
       "5    00:49:04      00:49:36        6       20  \n",
       "6    00:29:55      00:30:22        6       24  \n",
       "\n",
       "[5 rows x 22 columns]"
      ]
     },
     "execution_count": 36,
     "metadata": {},
     "output_type": "execute_result"
    }
   ],
   "source": [
    "keep_cols = ['activity', 'date', 'distance', 'calories', \n",
    "            'time', 'avg_hr', 'max_hr', 'aerobic_te', 'avg_run_cadence',\n",
    "            'max_run_cadence', 'avg_pace', 'best_pace', 'total_ascent',\n",
    "            'total_descent', 'avg_stride', 'avg_vert_ratio', 'best_lap', \n",
    "             'number_laps', 'moving_time', 'elapsed_time', 'min_elav', 'max_elav' ]\n",
    "\n",
    "run = run[keep_cols]\n",
    "run.head()"
   ]
  },
  {
   "cell_type": "code",
   "execution_count": null,
   "id": "0773eb18-62c7-4049-a751-c2ee94bfd3d0",
   "metadata": {},
   "outputs": [],
   "source": []
  }
 ],
 "metadata": {
  "kernelspec": {
   "display_name": "Python 3 (ipykernel)",
   "language": "python",
   "name": "python3"
  },
  "language_info": {
   "codemirror_mode": {
    "name": "ipython",
    "version": 3
   },
   "file_extension": ".py",
   "mimetype": "text/x-python",
   "name": "python",
   "nbconvert_exporter": "python",
   "pygments_lexer": "ipython3",
   "version": "3.9.12"
  }
 },
 "nbformat": 4,
 "nbformat_minor": 5
}
