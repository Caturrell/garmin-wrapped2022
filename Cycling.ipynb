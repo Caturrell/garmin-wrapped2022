{
 "cells": [
  {
   "cell_type": "markdown",
   "id": "d7b6caab-eedd-4b8c-ab53-a28ee0406d89",
   "metadata": {},
   "source": [
    "# Cycling Statistics"
   ]
  },
  {
   "cell_type": "markdown",
   "id": "235bfacb-354e-4a25-af66-fff93bdd6b7b",
   "metadata": {
    "tags": []
   },
   "source": [
    "## Preliminary Work"
   ]
  },
  {
   "cell_type": "markdown",
   "id": "1772deaf-9254-4ea9-a02f-3c3fb5f8f442",
   "metadata": {
    "jp-MarkdownHeadingCollapsed": true,
    "tags": []
   },
   "source": [
    "### Importing Data and Libraries"
   ]
  },
  {
   "cell_type": "code",
   "execution_count": 64,
   "id": "0226798e-5b00-48b7-bc08-740985b95c9f",
   "metadata": {},
   "outputs": [],
   "source": [
    "import math\n",
    "import numpy as np\n",
    "import pandas as pd\n",
    "import matplotlib.pyplot as plt\n",
    "%matplotlib inline"
   ]
  },
  {
   "cell_type": "code",
   "execution_count": 65,
   "id": "c8ff6b86-3814-49b2-885d-e1419e08ff4d",
   "metadata": {},
   "outputs": [],
   "source": [
    "# Import data\n",
    "garmin = pd.read_csv(\"activities.csv\")"
   ]
  },
  {
   "cell_type": "markdown",
   "id": "0ac24454-5884-44bd-b9bd-812a767e8a75",
   "metadata": {
    "tags": []
   },
   "source": [
    "### Data Wrangling"
   ]
  },
  {
   "cell_type": "markdown",
   "id": "c1fdd27a-f5f1-4277-beda-a4ed473dcea6",
   "metadata": {},
   "source": [
    "**Remove unnecessary columns and trim dataset down to a cycling dataset**"
   ]
  },
  {
   "cell_type": "code",
   "execution_count": 66,
   "id": "fe60fc3c-0ddc-4d2d-9c7a-6eb5300862d6",
   "metadata": {},
   "outputs": [
    {
     "name": "stdout",
     "output_type": "stream",
     "text": [
      "<class 'pandas.core.frame.DataFrame'>\n",
      "Int64Index: 148 entries, 0 to 148\n",
      "Data columns (total 14 columns):\n",
      " #   Column         Non-Null Count  Dtype         \n",
      "---  ------         --------------  -----         \n",
      " 0   Activity Type  148 non-null    object        \n",
      " 1   Date           148 non-null    datetime64[ns]\n",
      " 2   Elapsed Time   148 non-null    float64       \n",
      " 3   Distance       148 non-null    float64       \n",
      " 4   Calories       148 non-null    float64       \n",
      " 5   Avg HR         148 non-null    int64         \n",
      " 6   Max HR         148 non-null    int64         \n",
      " 7   Avg Pace       148 non-null    object        \n",
      " 8   Best Pace      148 non-null    object        \n",
      " 9   Total Ascent   148 non-null    float64       \n",
      " 10  Total Descent  148 non-null    float64       \n",
      " 11  Min Elevation  148 non-null    float64       \n",
      " 12  Max Elevation  148 non-null    float64       \n",
      " 13  Year           148 non-null    int64         \n",
      "dtypes: datetime64[ns](1), float64(7), int64(3), object(3)\n",
      "memory usage: 17.3+ KB\n"
     ]
    }
   ],
   "source": [
    "# Columns to keep\n",
    "#=================\n",
    "keep_cols = ['Activity Type', 'Date', 'Elapsed Time', 'Distance', 'Calories',\n",
    "       'Avg HR', 'Max HR','Avg Pace', 'Best Pace', 'Total Ascent',\n",
    "       'Total Descent', 'Min Elevation', 'Max Elevation']\n",
    "\n",
    "garmin = garmin[keep_cols]\n",
    "\n",
    "# Change activity names\n",
    "garmin['Activity Type'] = garmin['Activity Type'].replace(['Cardio'], 'Indoor Cycling')\n",
    "\n",
    "# Remove 'Cycling' Because duplicates made with watch instead of GPS\n",
    "garmin = garmin[ garmin['Activity Type'] != 'Cycling' ]\n",
    "\n",
    "\n",
    "# Change date to datetime and create 2022 dataset\n",
    "#=================================================\n",
    "garmin[\"Date\"] = pd.to_datetime(garmin[\"Date\"])\n",
    "garmin[\"Year\"] = garmin[\"Date\"].dt.year\n",
    "garmin = garmin[garmin[\"Year\"] == 2022]\n",
    "\n",
    "\n",
    "# Change columns to integer\n",
    "#===========================\n",
    "change_int = ['Distance', 'Calories',\n",
    "              'Total Ascent', 'Total Descent', \n",
    "              'Min Elevation', 'Max Elevation']\n",
    "\n",
    "# Edit strings\n",
    "garmin[change_int] = garmin[change_int].replace(\",\",\"\", regex=True)\n",
    "garmin[change_int] = garmin[change_int].replace(\"--\",\"0\", regex=True)\n",
    "\n",
    "# Change to float\n",
    "garmin[change_int] = garmin[change_int].astype(float)\n",
    "\n",
    "\n",
    "# Change elapsed time to datetime\n",
    "#=================================\n",
    "garmin['Elapsed Time'] = pd.to_datetime(garmin['Elapsed Time'], format='%H:%M:%S')\n",
    "garmin['Elapsed Time'] = garmin['Elapsed Time'].dt.hour*60 + garmin['Elapsed Time'].dt.minute + garmin['Elapsed Time'].dt.second/60\n",
    "garmin['Elapsed Time'] = round(garmin['Elapsed Time'])\n",
    "\n",
    "garmin.info()"
   ]
  },
  {
   "cell_type": "markdown",
   "id": "7e70f4d8-8d88-4d05-a699-bd2ffa789c8a",
   "metadata": {},
   "source": [
    "**Change column data types**"
   ]
  },
  {
   "cell_type": "code",
   "execution_count": 69,
   "id": "74b9ed6a-3f32-4471-bd03-764f61ab6a30",
   "metadata": {},
   "outputs": [
    {
     "data": {
      "text/html": [
       "<div>\n",
       "<style scoped>\n",
       "    .dataframe tbody tr th:only-of-type {\n",
       "        vertical-align: middle;\n",
       "    }\n",
       "\n",
       "    .dataframe tbody tr th {\n",
       "        vertical-align: top;\n",
       "    }\n",
       "\n",
       "    .dataframe thead th {\n",
       "        text-align: right;\n",
       "    }\n",
       "</style>\n",
       "<table border=\"1\" class=\"dataframe\">\n",
       "  <thead>\n",
       "    <tr style=\"text-align: right;\">\n",
       "      <th></th>\n",
       "      <th>Activity Type</th>\n",
       "      <th>Date</th>\n",
       "      <th>Elapsed Time</th>\n",
       "      <th>Distance</th>\n",
       "      <th>Calories</th>\n",
       "      <th>Avg HR</th>\n",
       "      <th>Max HR</th>\n",
       "      <th>Avg Pace</th>\n",
       "      <th>Best Pace</th>\n",
       "      <th>Total Ascent</th>\n",
       "      <th>Total Descent</th>\n",
       "      <th>Min Elevation</th>\n",
       "      <th>Max Elevation</th>\n",
       "    </tr>\n",
       "  </thead>\n",
       "  <tbody>\n",
       "    <tr>\n",
       "      <th>1</th>\n",
       "      <td>Mountain Biking</td>\n",
       "      <td>2022-12-14 09:17:47</td>\n",
       "      <td>69.0</td>\n",
       "      <td>12.81</td>\n",
       "      <td>916.0</td>\n",
       "      <td>153</td>\n",
       "      <td>188</td>\n",
       "      <td>11.2</td>\n",
       "      <td>28.7</td>\n",
       "      <td>175.0</td>\n",
       "      <td>174.0</td>\n",
       "      <td>158.0</td>\n",
       "      <td>267.0</td>\n",
       "    </tr>\n",
       "    <tr>\n",
       "      <th>9</th>\n",
       "      <td>Road Cycling</td>\n",
       "      <td>2022-11-25 13:09:59</td>\n",
       "      <td>63.0</td>\n",
       "      <td>18.38</td>\n",
       "      <td>559.0</td>\n",
       "      <td>0</td>\n",
       "      <td>0</td>\n",
       "      <td>21.0</td>\n",
       "      <td>30.2</td>\n",
       "      <td>29.0</td>\n",
       "      <td>34.0</td>\n",
       "      <td>-2.0</td>\n",
       "      <td>11.0</td>\n",
       "    </tr>\n",
       "    <tr>\n",
       "      <th>19</th>\n",
       "      <td>Indoor Cycling</td>\n",
       "      <td>2022-11-07 13:18:34</td>\n",
       "      <td>31.0</td>\n",
       "      <td>0.00</td>\n",
       "      <td>245.0</td>\n",
       "      <td>112</td>\n",
       "      <td>145</td>\n",
       "      <td>--</td>\n",
       "      <td>--</td>\n",
       "      <td>0.0</td>\n",
       "      <td>0.0</td>\n",
       "      <td>0.0</td>\n",
       "      <td>0.0</td>\n",
       "    </tr>\n",
       "    <tr>\n",
       "      <th>25</th>\n",
       "      <td>Road Cycling</td>\n",
       "      <td>2022-10-08 16:24:24</td>\n",
       "      <td>105.0</td>\n",
       "      <td>14.42</td>\n",
       "      <td>424.0</td>\n",
       "      <td>0</td>\n",
       "      <td>0</td>\n",
       "      <td>19.8</td>\n",
       "      <td>38.9</td>\n",
       "      <td>35.0</td>\n",
       "      <td>33.0</td>\n",
       "      <td>-0.0</td>\n",
       "      <td>9.0</td>\n",
       "    </tr>\n",
       "    <tr>\n",
       "      <th>26</th>\n",
       "      <td>Road Cycling</td>\n",
       "      <td>2022-10-08 11:57:42</td>\n",
       "      <td>148.0</td>\n",
       "      <td>15.65</td>\n",
       "      <td>502.0</td>\n",
       "      <td>0</td>\n",
       "      <td>0</td>\n",
       "      <td>6.4</td>\n",
       "      <td>30.6</td>\n",
       "      <td>48.0</td>\n",
       "      <td>50.0</td>\n",
       "      <td>4.0</td>\n",
       "      <td>118.0</td>\n",
       "    </tr>\n",
       "  </tbody>\n",
       "</table>\n",
       "</div>"
      ],
      "text/plain": [
       "      Activity Type                Date  Elapsed Time  Distance  Calories  \\\n",
       "1   Mountain Biking 2022-12-14 09:17:47          69.0     12.81     916.0   \n",
       "9      Road Cycling 2022-11-25 13:09:59          63.0     18.38     559.0   \n",
       "19   Indoor Cycling 2022-11-07 13:18:34          31.0      0.00     245.0   \n",
       "25     Road Cycling 2022-10-08 16:24:24         105.0     14.42     424.0   \n",
       "26     Road Cycling 2022-10-08 11:57:42         148.0     15.65     502.0   \n",
       "\n",
       "    Avg HR  Max HR Avg Pace Best Pace  Total Ascent  Total Descent  \\\n",
       "1      153     188     11.2      28.7         175.0          174.0   \n",
       "9        0       0     21.0      30.2          29.0           34.0   \n",
       "19     112     145       --        --           0.0            0.0   \n",
       "25       0       0     19.8      38.9          35.0           33.0   \n",
       "26       0       0      6.4      30.6          48.0           50.0   \n",
       "\n",
       "    Min Elevation  Max Elevation  \n",
       "1           158.0          267.0  \n",
       "9            -2.0           11.0  \n",
       "19            0.0            0.0  \n",
       "25           -0.0            9.0  \n",
       "26            4.0          118.0  "
      ]
     },
     "execution_count": 69,
     "metadata": {},
     "output_type": "execute_result"
    }
   ],
   "source": [
    "# Create cycling 2022 dataset\n",
    "cycling = garmin[ garmin['Activity Type'].isin([\"Indoor Cycling\", 'Mountain Biking', 'Road Cycling']) ]\n",
    "\n",
    "#Remove \"Year\" Column\n",
    "del cycling[\"Year\"]\n",
    "\n",
    "cycling.head()"
   ]
  },
  {
   "cell_type": "markdown",
   "id": "35e12396-e5b5-4974-b56e-b2a09b395a69",
   "metadata": {},
   "source": [
    "## Statistics"
   ]
  },
  {
   "cell_type": "markdown",
   "id": "634f0e0c-d054-4780-977c-5fe3db474ef7",
   "metadata": {},
   "source": [
    "### Totals\n",
    "\n",
    "**Total statistics for outdoor cycling**"
   ]
  },
  {
   "cell_type": "code",
   "execution_count": 72,
   "id": "101b0b08-aa61-45ee-ba5b-402eb760967a",
   "metadata": {},
   "outputs": [
    {
     "data": {
      "text/plain": [
       "Distance           312.41\n",
       "Calories         14964.00\n",
       "Elapsed Time      2207.00\n",
       "Total Ascent      4087.00\n",
       "Total Descent     4035.00\n",
       "dtype: float64"
      ]
     },
     "execution_count": 72,
     "metadata": {},
     "output_type": "execute_result"
    }
   ],
   "source": [
    "cycling_out = cycling[ cycling['Activity Type'].isin(['Road Cycling', 'Mountain Biking']) ]\n",
    "\n",
    "sum_cols = ['Distance', 'Calories', 'Elapsed Time',\n",
    "            'Total Ascent', 'Total Descent']\n",
    "\n",
    "cycling_out[sum_cols].sum()"
   ]
  },
  {
   "cell_type": "markdown",
   "id": "254ac3e2-fe4d-4714-9ecf-d94f5ffe4516",
   "metadata": {},
   "source": [
    "**Statistics for all cycling**"
   ]
  },
  {
   "cell_type": "code",
   "execution_count": 73,
   "id": "37c86f2f-ee12-46a3-bfe6-caad6cca1dc2",
   "metadata": {},
   "outputs": [
    {
     "data": {
      "text/plain": [
       "Distance           481.87\n",
       "Calories         23330.00\n",
       "Elapsed Time      2959.00\n",
       "Total Ascent      6539.00\n",
       "Total Descent     4035.00\n",
       "dtype: float64"
      ]
     },
     "execution_count": 73,
     "metadata": {},
     "output_type": "execute_result"
    }
   ],
   "source": [
    "cycling[sum_cols].sum()"
   ]
  },
  {
   "cell_type": "markdown",
   "id": "351eb87f-f3d9-4d2e-b433-da7a5fe4b718",
   "metadata": {},
   "source": [
    "## Graphics"
   ]
  },
  {
   "cell_type": "markdown",
   "id": "fb021229-72a9-4f66-9431-8920b2feb3a3",
   "metadata": {},
   "source": [
    "### Bar Plot"
   ]
  },
  {
   "cell_type": "code",
   "execution_count": 81,
   "id": "760ae50e-e487-4c04-ab1f-b4ccd65d303c",
   "metadata": {},
   "outputs": [
    {
     "data": {
      "image/png": "[encoded data removed]",
      "text/plain": [
       "<Figure size 576x360 with 1 Axes>"
      ]
     },
     "metadata": {
      "needs_background": "light"
     },
     "output_type": "display_data"
    }
   ],
   "source": [
    "fig_bar = plt.subplots(figsize=(8,5))\n",
    "plt.bar(cycling['Activity Type'], cycling['Distance'])\n",
    "plt.xticks(rotation=45)\n",
    "plt.xlabel(\"Cycling Activity\")\n",
    "plt.ylabel(\"Distance Cycled (km)\");"
   ]
  },
  {
   "cell_type": "code",
   "execution_count": null,
   "id": "342bfba3-4aeb-47df-93e3-872588a22dba",
   "metadata": {},
   "outputs": [],
   "source": []
  }
 ],
 "metadata": {
  "kernelspec": {
   "display_name": "Python 3 (ipykernel)",
   "language": "python",
   "name": "python3"
  },
  "language_info": {
   "codemirror_mode": {
    "name": "ipython",
    "version": 3
   },
   "file_extension": ".py",
   "mimetype": "text/x-python",
   "name": "python",
   "nbconvert_exporter": "python",
   "pygments_lexer": "ipython3",
   "version": "3.9.12"
  }
 },
 "nbformat": 4,
 "nbformat_minor": 5
}
